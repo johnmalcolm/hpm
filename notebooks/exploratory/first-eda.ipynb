{
 "cells": [
  {
   "cell_type": "markdown",
   "metadata": {},
   "source": [
    "# First Exploratory Data Analysis "
   ]
  },
  {
   "cell_type": "markdown",
   "metadata": {},
   "source": [
    "Import necessary dependencies"
   ]
  },
  {
   "cell_type": "code",
   "execution_count": 14,
   "metadata": {},
   "outputs": [],
   "source": [
    "import json\n",
    "import os\n",
    "import pandas as pd\n",
    "import numpy as np\n",
    "import matplotlib.pyplot as plt\n",
    "import seaborn as sns\n",
    "import openpyxl\n",
    "from semopy import Model\n",
    "from factor_analyzer import ConfirmatoryFactorAnalyzer, ModelSpecificationParser"
   ]
  },
  {
   "cell_type": "markdown",
   "metadata": {},
   "source": [
    "Set directories for project and data folders"
   ]
  },
  {
   "cell_type": "code",
   "execution_count": 15,
   "metadata": {},
   "outputs": [],
   "source": [
    "current_dir = os.getcwd()\n",
    "project_root = os.path.dirname(os.path.dirname(current_dir))\n",
    "PROCESSED_DATA_PATH = os.path.join(project_root, 'data', 'processed')\n",
    "RAW_DATA_PATH = os.path.join(project_root, 'data', 'raw')\n",
    "OUTPUT_PATH = os.path.join(project_root, 'output')"
   ]
  },
  {
   "cell_type": "markdown",
   "metadata": {},
   "source": [
    "Load descriptions and descriptive names for scale"
   ]
  },
  {
   "cell_type": "code",
   "execution_count": 27,
   "metadata": {},
   "outputs": [
    {
     "name": "stdout",
     "output_type": "stream",
     "text": [
      "  COUNTRY  COMPANY CODE  INDUSTRY  Environmentally Preferable Packaging  \\\n",
      "0     BRA          1701         3                                   4.0   \n",
      "1     BRA          1702         1                                   NaN   \n",
      "2     BRA          1703         1                                   3.0   \n",
      "3     BRA          1704         3                                   2.0   \n",
      "4     BRA          1705         3                                   2.0   \n",
      "\n",
      "   Third Party Monitoring of Supplier Working Conditions  Water Efficiency  \\\n",
      "0                                                2.0                   4.0   \n",
      "1                                                NaN                   NaN   \n",
      "2                                                2.0                   3.0   \n",
      "3                                                4.0                   2.0   \n",
      "4                                                1.0                   3.0   \n",
      "\n",
      "   Substituting Environmentally Preferable Direct Materials  \\\n",
      "0                                                3.0          \n",
      "1                                                NaN          \n",
      "2                                                1.0          \n",
      "3                                                2.0          \n",
      "4                                                2.0          \n",
      "\n",
      "   Environmental Design Specifications to Suppliers  \\\n",
      "0                                               3.0   \n",
      "1                                               NaN   \n",
      "2                                               2.0   \n",
      "3                                               3.0   \n",
      "4                                               3.0   \n",
      "\n",
      "   Environmental Improvements for Scrap/Excess Material Disposition  \\\n",
      "0                                                5.0                  \n",
      "1                                                NaN                  \n",
      "2                                                4.0                  \n",
      "3                                                4.0                  \n",
      "4                                                4.0                  \n",
      "\n",
      "   Customer Environmental Objectives Assistance  ...  \\\n",
      "0                                           2.0  ...   \n",
      "1                                           NaN  ...   \n",
      "2                                           3.0  ...   \n",
      "3                                           4.0  ...   \n",
      "4                                           3.0  ...   \n",
      "\n",
      "   Equipment Layout - Low Inventories  Equipment Layout - Minimized Handling  \\\n",
      "0                                 NaN                                    NaN   \n",
      "1                                 5.0                                    5.0   \n",
      "2                                 4.0                                    5.0   \n",
      "3                                 3.0                                    2.0   \n",
      "4                                 4.0                                    4.0   \n",
      "\n",
      "   Equipment Layout - JIT Production  \\\n",
      "0                                NaN   \n",
      "1                                3.0   \n",
      "2                                2.0   \n",
      "3                                3.0   \n",
      "4                                1.0   \n",
      "\n",
      "   JIT Delivery by Suppliers - Timely Delivery  \\\n",
      "0                                          2.0   \n",
      "1                                          2.0   \n",
      "2                                          NaN   \n",
      "3                                          1.0   \n",
      "4                                          1.5   \n",
      "\n",
      "   JIT Delivery by Suppliers - Daily Shipments  \\\n",
      "0                                          5.0   \n",
      "1                                          NaN   \n",
      "2                                          NaN   \n",
      "3                                          1.0   \n",
      "4                                          1.5   \n",
      "\n",
      "   JIT Delivery by Suppliers - Pull System  Kanban - Supplier Containers  \\\n",
      "0                                      2.0                           NaN   \n",
      "1                                      5.0                           NaN   \n",
      "2                                      NaN                           NaN   \n",
      "3                                      2.0                           1.0   \n",
      "4                                      1.5                           NaN   \n",
      "\n",
      "   Kanban - Production Control Pull System  \\\n",
      "0                                      5.0   \n",
      "1                                      NaN   \n",
      "2                                      NaN   \n",
      "3                                      3.0   \n",
      "4                                      NaN   \n",
      "\n",
      "   Kanban - Production Control Signals  Employees  \n",
      "0                                  5.0        NaN  \n",
      "1                                  NaN      287.0  \n",
      "2                                  NaN      145.0  \n",
      "3                                  3.0      247.0  \n",
      "4                                  NaN      125.0  \n",
      "\n",
      "[5 rows x 64 columns]\n",
      "\n",
      "Summary Statistics:\n",
      "\n",
      "       COMPANY CODE    INDUSTRY  Environmentally Preferable Packaging  \\\n",
      "count    330.000000  330.000000                            307.000000   \n",
      "mean    1052.884848    1.884848                              3.565147   \n",
      "std      545.441640    0.778948                              0.858186   \n",
      "min      101.000000    1.000000                              1.000000   \n",
      "25%      510.250000    1.000000                              3.000000   \n",
      "50%     1205.500000    2.000000                              3.666667   \n",
      "75%     1503.750000    2.750000                              4.000000   \n",
      "max     1925.000000    3.000000                              5.000000   \n",
      "\n",
      "       Third Party Monitoring of Supplier Working Conditions  \\\n",
      "count                                         303.000000       \n",
      "mean                                            2.310781       \n",
      "std                                             1.174972       \n",
      "min                                             1.000000       \n",
      "25%                                             1.000000       \n",
      "50%                                             2.000000       \n",
      "75%                                             3.000000       \n",
      "max                                             5.000000       \n",
      "\n",
      "       Water Efficiency  \\\n",
      "count        304.000000   \n",
      "mean           3.652412   \n",
      "std            0.910043   \n",
      "min            1.000000   \n",
      "25%            3.000000   \n",
      "50%            4.000000   \n",
      "75%            4.000000   \n",
      "max            5.000000   \n",
      "\n",
      "       Substituting Environmentally Preferable Direct Materials  \\\n",
      "count                                         307.000000          \n",
      "mean                                            3.377307          \n",
      "std                                             1.040119          \n",
      "min                                             1.000000          \n",
      "25%                                             3.000000          \n",
      "50%                                             3.500000          \n",
      "75%                                             4.000000          \n",
      "max                                             5.000000          \n",
      "\n",
      "       Environmental Design Specifications to Suppliers  \\\n",
      "count                                        306.000000   \n",
      "mean                                           3.296841   \n",
      "std                                            1.119879   \n",
      "min                                            1.000000   \n",
      "25%                                            2.500000   \n",
      "50%                                            3.000000   \n",
      "75%                                            4.000000   \n",
      "max                                            5.000000   \n",
      "\n",
      "       Environmental Improvements for Scrap/Excess Material Disposition  \\\n",
      "count                                         306.000000                  \n",
      "mean                                            4.040850                  \n",
      "std                                             0.766359                  \n",
      "min                                             1.000000                  \n",
      "25%                                             3.500000                  \n",
      "50%                                             4.000000                  \n",
      "75%                                             4.500000                  \n",
      "max                                             5.000000                  \n",
      "\n",
      "       Customer Environmental Objectives Assistance  \\\n",
      "count                                    308.000000   \n",
      "mean                                       3.357684   \n",
      "std                                        1.057624   \n",
      "min                                        1.000000   \n",
      "25%                                        3.000000   \n",
      "50%                                        3.500000   \n",
      "75%                                        4.000000   \n",
      "max                                        5.000000   \n",
      "\n",
      "       Customer Supplier Code Compliance  ...  \\\n",
      "count                         302.000000  ...   \n",
      "mean                            3.848786  ...   \n",
      "std                             1.033466  ...   \n",
      "min                             1.000000  ...   \n",
      "25%                             3.000000  ...   \n",
      "50%                             4.000000  ...   \n",
      "75%                             5.000000  ...   \n",
      "max                             5.000000  ...   \n",
      "\n",
      "       Equipment Layout - Low Inventories  \\\n",
      "count                          316.000000   \n",
      "mean                             3.758439   \n",
      "std                              0.877617   \n",
      "min                              1.000000   \n",
      "25%                              3.000000   \n",
      "50%                              4.000000   \n",
      "75%                              4.000000   \n",
      "max                              5.000000   \n",
      "\n",
      "       Equipment Layout - Minimized Handling  \\\n",
      "count                             316.000000   \n",
      "mean                                3.784283   \n",
      "std                                 0.939700   \n",
      "min                                 1.000000   \n",
      "25%                                 3.000000   \n",
      "50%                                 4.000000   \n",
      "75%                                 4.500000   \n",
      "max                                 5.000000   \n",
      "\n",
      "       Equipment Layout - JIT Production  \\\n",
      "count                         313.000000   \n",
      "mean                            3.555378   \n",
      "std                             0.996586   \n",
      "min                             1.000000   \n",
      "25%                             3.000000   \n",
      "50%                             4.000000   \n",
      "75%                             4.000000   \n",
      "max                             5.000000   \n",
      "\n",
      "       JIT Delivery by Suppliers - Timely Delivery  \\\n",
      "count                                   303.000000   \n",
      "mean                                      3.470297   \n",
      "std                                       1.113185   \n",
      "min                                       1.000000   \n",
      "25%                                       3.000000   \n",
      "50%                                       4.000000   \n",
      "75%                                       4.000000   \n",
      "max                                       5.000000   \n",
      "\n",
      "       JIT Delivery by Suppliers - Daily Shipments  \\\n",
      "count                                   301.000000   \n",
      "mean                                      3.383721   \n",
      "std                                       1.209587   \n",
      "min                                       1.000000   \n",
      "25%                                       2.500000   \n",
      "50%                                       3.500000   \n",
      "75%                                       4.000000   \n",
      "max                                       5.000000   \n",
      "\n",
      "       JIT Delivery by Suppliers - Pull System  Kanban - Supplier Containers  \\\n",
      "count                               300.000000                    290.000000   \n",
      "mean                                  3.343333                      2.459770   \n",
      "std                                   1.233095                      1.180838   \n",
      "min                                   1.000000                      1.000000   \n",
      "25%                                   2.500000                      1.500000   \n",
      "50%                                   3.500000                      2.000000   \n",
      "75%                                   4.000000                      3.000000   \n",
      "max                                   5.000000                      5.000000   \n",
      "\n",
      "       Kanban - Production Control Pull System  \\\n",
      "count                               294.000000   \n",
      "mean                                  2.939909   \n",
      "std                                   1.273984   \n",
      "min                                   1.000000   \n",
      "25%                                   2.000000   \n",
      "50%                                   3.000000   \n",
      "75%                                   4.000000   \n",
      "max                                   5.000000   \n",
      "\n",
      "       Kanban - Production Control Signals     Employees  \n",
      "count                           294.000000    277.000000  \n",
      "mean                              2.924036    828.050542  \n",
      "std                               1.276629   1530.917433  \n",
      "min                               1.000000      2.000000  \n",
      "25%                               2.000000    200.000000  \n",
      "50%                               3.000000    351.000000  \n",
      "75%                               4.000000    815.000000  \n",
      "max                               5.000000  15733.000000  \n",
      "\n",
      "[8 rows x 63 columns]\n",
      "\n",
      "Missing Values:\n",
      "\n",
      "COUNTRY                                                   0\n",
      "COMPANY CODE                                              0\n",
      "INDUSTRY                                                  0\n",
      "Environmentally Preferable Packaging                     23\n",
      "Third Party Monitoring of Supplier Working Conditions    27\n",
      "                                                         ..\n",
      "JIT Delivery by Suppliers - Pull System                  30\n",
      "Kanban - Supplier Containers                             40\n",
      "Kanban - Production Control Pull System                  36\n",
      "Kanban - Production Control Signals                      36\n",
      "Employees                                                53\n",
      "Length: 64, dtype: int64\n"
     ]
    }
   ],
   "source": [
    "# Load the JSON file containing the shorter descriptions\n",
    "with open(PROCESSED_DATA_PATH + '/codes.json', 'r') as f:\n",
    "    codes = json.load(f)\n",
    "\n",
    "# Create a mapping of original codes to descriptive names\n",
    "code_to_name = {item['original_code']: item['descriptive_name'] for item in codes}\n",
    "\n",
    "# Load the data (assuming you have a CSV file named 'data.csv')\n",
    "data = pd.read_excel(RAW_DATA_PATH + '/HPM data_environmental performance.xlsx')\n",
    "\n",
    "# Rename columns using the shorter descriptions\n",
    "data.rename(columns=code_to_name, inplace=True)\n",
    "\n",
    "# Display the first few rows of the dataset to get a feel for the data\n",
    "print(data.head())\n",
    "\n",
    "# Summary statistics\n",
    "print(\"\\nSummary Statistics:\\n\")\n",
    "print(data.describe())\n",
    "\n",
    "# Check for missing values\n",
    "print(\"\\nMissing Values:\\n\")\n",
    "print(data.isnull().sum())"
   ]
  },
  {
   "cell_type": "code",
   "execution_count": 17,
   "metadata": {},
   "outputs": [
    {
     "data": {
      "text/plain": [
       "68"
      ]
     },
     "execution_count": 17,
     "metadata": {},
     "output_type": "execute_result"
    }
   ],
   "source": [
    "len(codes)"
   ]
  },
  {
   "cell_type": "code",
   "execution_count": null,
   "metadata": {},
   "outputs": [],
   "source": [
    "\n",
    "# Visualize the distribution of numerical variables\n",
    "numerical_features = data.select_dtypes(include=[np.number]).columns.tolist()\n",
    "\n",
    "for feature in numerical_features:\n",
    "    plt.figure(figsize=(8,5))\n",
    "    sns.histplot(data[feature], bins=50, kde=True)\n",
    "    plt.title(f'Distribution of {feature}')\n",
    "    plt.show()\n",
    "\n",
    "# Correlation heatmap for numerical features\n",
    "plt.figure(figsize=(12,10))\n",
    "sns.heatmap(data[numerical_features].corr(), annot=True, cmap='coolwarm')\n",
    "plt.title('Correlation Heatmap')\n",
    "plt.show()\n",
    "\n",
    "# Normalization (if needed)\n",
    "# Here, we'll use Min-Max normalization as an example\n",
    "from sklearn.preprocessing import MinMaxScaler\n",
    "\n",
    "scaler = MinMaxScaler()\n",
    "data_normalized = pd.DataFrame(scaler.fit_transform(data[numerical_features]), columns=numerical_features)\n",
    "\n",
    "# Check normalized data\n",
    "print(\"\\nNormalized Data:\\n\")\n",
    "print(data_normalized.head())\n"
   ]
  },
  {
   "cell_type": "code",
   "execution_count": 28,
   "metadata": {},
   "outputs": [],
   "source": [
    "# Drop rows with missing values (or you can choose other imputation methods)\n",
    "df_cleaned = data.dropna(subset=['Environmentally Preferable Packaging', 'Third Party Monitoring of Supplier Working Conditions',\n",
    "                              'Water Efficiency', 'Substituting Environmentally Preferable Direct Materials',\n",
    "                              'Equipment Layout - Low Inventories', 'Equipment Layout - Minimized Handling',\n",
    "                              'Equipment Layout - JIT Production', 'JIT Delivery by Suppliers - Timely Delivery',\n",
    "                              'JIT Delivery by Suppliers - Daily Shipments', 'JIT Delivery by Suppliers - Pull System',\n",
    "                              'Kanban - Supplier Containers', 'Kanban - Production Control Pull System',\n",
    "                              'Kanban - Production Control Signals'])\n",
    "\n",
    "# Assuming df_cleaned is the dataframe after dropping NaN values\n",
    "numeric_cols = df_cleaned.select_dtypes(include=[float, int]).columns\n",
    "df_numeric = df_cleaned[numeric_cols]\n",
    "\n",
    "# Model specification\n",
    "model_dict = {\n",
    "    \"Environmental Practices\": ['Environmentally Preferable Packaging', 'Third Party Monitoring of Supplier Working Conditions',\n",
    "                               'Water Efficiency', 'Substituting Environmentally Preferable Direct Materials'],\n",
    "    \"Equipment Layout\": ['Equipment Layout - Low Inventories', 'Equipment Layout - Minimized Handling',\n",
    "                         'Equipment Layout - JIT Production'],\n",
    "    \"JIT & Kanban\": ['JIT Delivery by Suppliers - Timely Delivery', 'JIT Delivery by Suppliers - Daily Shipments',\n",
    "                     'JIT Delivery by Suppliers - Pull System', 'Kanban - Supplier Containers',\n",
    "                     'Kanban - Production Control Pull System', 'Kanban - Production Control Signals']\n",
    "}\n",
    "\n",
    "# Extract all column names from the model_dict\n",
    "desired_columns = [col for sublist in model_dict.values() for col in sublist]\n",
    "\n",
    "# Filter df_numeric to include only those columns\n",
    "df_numeric_filtered = df_numeric[desired_columns]\n",
    "\n",
    "# Ensure model_dict keys and values are within numeric_cols\n",
    "filtered_model_dict = {k: [col for col in v if col in numeric_cols] for k, v in model_dict.items() if all(col in numeric_cols for col in v)}"
   ]
  },
  {
   "cell_type": "code",
   "execution_count": 29,
   "metadata": {},
   "outputs": [
    {
     "name": "stderr",
     "output_type": "stream",
     "text": [
      " This problem is unconstrained.\n"
     ]
    },
    {
     "name": "stdout",
     "output_type": "stream",
     "text": [
      "RUNNING THE L-BFGS-B CODE\n",
      "\n",
      "           * * *\n",
      "\n",
      "Machine precision = 2.220D-16\n",
      " N =           58     M =           10\n",
      "\n",
      "At X0         0 variables are exactly at the bounds\n",
      "\n",
      "At iterate    0    f=  4.87139D+03    |proj g|=  2.92324D+02\n",
      "\n",
      "At iterate    1    f=  4.63657D+03    |proj g|=  5.75748D+01\n",
      "\n",
      "At iterate    2    f=  4.59542D+03    |proj g|=  4.52903D+01\n",
      "\n",
      "At iterate    3    f=  4.56131D+03    |proj g|=  5.49286D+01\n",
      "\n",
      "At iterate    4    f=  4.55509D+03    |proj g|=  5.54188D+01\n",
      "\n",
      "At iterate    5    f=  4.54422D+03    |proj g|=  4.03441D+01\n",
      "\n",
      "At iterate    6    f=  4.54098D+03    |proj g|=  1.16618D+01\n",
      "\n",
      "At iterate    7    f=  4.53896D+03    |proj g|=  2.11840D+01\n",
      "\n",
      "At iterate    8    f=  4.53740D+03    |proj g|=  1.46292D+01\n",
      "\n",
      "At iterate    9    f=  4.53404D+03    |proj g|=  1.44382D+01\n",
      "\n",
      "At iterate   10    f=  4.53178D+03    |proj g|=  1.59795D+01\n",
      "\n",
      "At iterate   11    f=  4.52995D+03    |proj g|=  1.31166D+01\n",
      "\n",
      "At iterate   12    f=  4.52837D+03    |proj g|=  1.32089D+01\n",
      "\n",
      "At iterate   13    f=  4.52765D+03    |proj g|=  3.30274D+00\n",
      "\n",
      "At iterate   14    f=  4.52754D+03    |proj g|=  2.44154D+00\n",
      "\n",
      "At iterate   15    f=  4.52749D+03    |proj g|=  1.68347D+00\n",
      "\n",
      "At iterate   16    f=  4.52747D+03    |proj g|=  1.81035D+00\n",
      "\n",
      "At iterate   17    f=  4.52746D+03    |proj g|=  1.18980D+00\n",
      "\n",
      "At iterate   18    f=  4.52746D+03    |proj g|=  2.80397D-01\n",
      "\n",
      "At iterate   19    f=  4.52746D+03    |proj g|=  2.52112D-01\n",
      "\n",
      "At iterate   20    f=  4.52745D+03    |proj g|=  1.28966D-01\n",
      "\n",
      "At iterate   21    f=  4.52745D+03    |proj g|=  8.87667D-02\n",
      "\n",
      "At iterate   22    f=  4.52745D+03    |proj g|=  2.60115D-02\n",
      "\n",
      "At iterate   23    f=  4.52745D+03    |proj g|=  2.05546D-02\n",
      "\n",
      "           * * *\n",
      "\n",
      "Tit   = total number of iterations\n",
      "Tnf   = total number of function evaluations\n",
      "Tnint = total number of segments explored during Cauchy searches\n",
      "Skip  = number of BFGS updates skipped\n",
      "Nact  = number of active bounds at final generalized Cauchy point\n",
      "Projg = norm of the final projected gradient\n",
      "F     = final function value\n",
      "\n",
      "           * * *\n",
      "\n",
      "   N    Tit     Tnf  Tnint  Skip  Nact     Projg        F\n",
      "   58     23     27      1     0     0   2.055D-02   4.527D+03\n",
      "  F =   4527.4544434102881     \n",
      "\n",
      "CONVERGENCE: REL_REDUCTION_OF_F_<=_FACTR*EPSMCH             \n"
     ]
    },
    {
     "name": "stderr",
     "output_type": "stream",
     "text": [
      "/var/folders/l3/xnhphxjs6_x60z1z798fy0dw0000gq/T/ipykernel_67658/1503887432.py:18: RuntimeWarning: invalid value encountered in divide\n",
      "  t_values = loadings / se_loadings\n"
     ]
    }
   ],
   "source": [
    "# Adjusted model specification\n",
    "model_spec = ModelSpecificationParser.parse_model_specification_from_dict(df_numeric_filtered, filtered_model_dict)\n",
    "\n",
    "# CFA model\n",
    "cfa = ConfirmatoryFactorAnalyzer(model_spec)\n",
    "cfa.fit(df_numeric_filtered)\n",
    "\n",
    "# Extract the factor loadings\n",
    "loadings = cfa.loadings_\n",
    "\n",
    "# Get the standard errors for loadings and intercepts\n",
    "se_all = cfa.get_standard_errors()\n",
    "\n",
    "# Extract standard errors for loadings\n",
    "se_loadings = se_all[0]\n",
    "\n",
    "# Compute t-values\n",
    "t_values = loadings / se_loadings"
   ]
  },
  {
   "cell_type": "code",
   "execution_count": 31,
   "metadata": {},
   "outputs": [
    {
     "name": "stdout",
     "output_type": "stream",
     "text": [
      "                     Bundle  \\\n",
      "0   Environmental Practices   \n",
      "1   Environmental Practices   \n",
      "2   Environmental Practices   \n",
      "3   Environmental Practices   \n",
      "4          Equipment Layout   \n",
      "5          Equipment Layout   \n",
      "6          Equipment Layout   \n",
      "7              JIT & Kanban   \n",
      "8              JIT & Kanban   \n",
      "9              JIT & Kanban   \n",
      "10             JIT & Kanban   \n",
      "11             JIT & Kanban   \n",
      "12             JIT & Kanban   \n",
      "\n",
      "                                     Item description   Loading        SE  \\\n",
      "0                Environmentally Preferable Packaging  0.447683  0.059621   \n",
      "1   Third Party Monitoring of Supplier Working Con...  0.540919  0.082463   \n",
      "2                                    Water Efficiency  0.542843  0.065713   \n",
      "3   Substituting Environmentally Preferable Direct...  0.646634  0.074210   \n",
      "4                  Equipment Layout - Low Inventories  0.736921  0.052824   \n",
      "5               Equipment Layout - Minimized Handling  0.757169  0.056553   \n",
      "6                   Equipment Layout - JIT Production  0.615030  0.060083   \n",
      "7         JIT Delivery by Suppliers - Timely Delivery  0.515452  0.070973   \n",
      "8         JIT Delivery by Suppliers - Daily Shipments  0.294416  0.079770   \n",
      "9             JIT Delivery by Suppliers - Pull System  0.460002  0.078842   \n",
      "10                       Kanban - Supplier Containers  0.611805  0.073784   \n",
      "11            Kanban - Production Control Pull System  1.035734  0.070377   \n",
      "12                Kanban - Production Control Signals  1.084669  0.069003   \n",
      "\n",
      "      t-value  \n",
      "0    7.508862  \n",
      "1    6.559526  \n",
      "2    8.260844  \n",
      "3    8.713526  \n",
      "4   13.950627  \n",
      "5   13.388600  \n",
      "6   10.236411  \n",
      "7    7.262661  \n",
      "8    3.690830  \n",
      "9    5.834441  \n",
      "10   8.291879  \n",
      "11  14.716886  \n",
      "12  15.719153  \n"
     ]
    }
   ],
   "source": [
    "data = {\n",
    "    'Bundle': [],\n",
    "    'Item description': [],\n",
    "    'Loading': [],\n",
    "    'SE': [],\n",
    "    't-value': []\n",
    "}\n",
    "\n",
    "# Loop through each factor and then each item within that factor\n",
    "for factor, items in model_dict.items():\n",
    "    for item in items:\n",
    "        item_idx = df_numeric_filtered.columns.get_loc(item)\n",
    "        factor_idx = list(model_dict.keys()).index(factor)\n",
    "\n",
    "        loading_value = loadings[item_idx][factor_idx]\n",
    "        se_value = se_loadings[item_idx][factor_idx]\n",
    "        t_value = t_values[item_idx][factor_idx]\n",
    "\n",
    "        data['Bundle'].append(factor)\n",
    "        data['Item description'].append(item)  # Using column names as descriptions for now\n",
    "        data['Loading'].append(loading_value)\n",
    "        data['SE'].append(se_value)\n",
    "        data['t-value'].append(t_value)\n",
    "\n",
    "# Convert the data to a DataFrame\n",
    "results_df = pd.DataFrame(data)\n",
    "print(results_df)\n"
   ]
  },
  {
   "cell_type": "code",
   "execution_count": 32,
   "metadata": {},
   "outputs": [],
   "source": [
    "# To save the results to a CSV file\n",
    "results_df.to_csv(OUTPUT_PATH + '/cfa_results.csv', index=False)"
   ]
  },
  {
   "cell_type": "code",
   "execution_count": 33,
   "metadata": {},
   "outputs": [
    {
     "ename": "AttributeError",
     "evalue": "'ConfirmatoryFactorAnalyzer' object has no attribute 'fit_'",
     "output_type": "error",
     "traceback": [
      "\u001b[0;31m---------------------------------------------------------------------------\u001b[0m",
      "\u001b[0;31mAttributeError\u001b[0m                            Traceback (most recent call last)",
      "\u001b[1;32m/Users/john.anderson/hpm/notebooks/exploratory/first-eda.ipynb Cell 14\u001b[0m line \u001b[0;36m1\n\u001b[0;32m----> <a href='vscode-notebook-cell:/Users/john.anderson/hpm/notebooks/exploratory/first-eda.ipynb#X16sZmlsZQ%3D%3D?line=0'>1</a>\u001b[0m fit_results \u001b[39m=\u001b[39m cfa\u001b[39m.\u001b[39;49mfit_\n\u001b[1;32m      <a href='vscode-notebook-cell:/Users/john.anderson/hpm/notebooks/exploratory/first-eda.ipynb#X16sZmlsZQ%3D%3D?line=1'>2</a>\u001b[0m chi_square \u001b[39m=\u001b[39m fit_results\u001b[39m.\u001b[39mstatistic\n\u001b[1;32m      <a href='vscode-notebook-cell:/Users/john.anderson/hpm/notebooks/exploratory/first-eda.ipynb#X16sZmlsZQ%3D%3D?line=2'>3</a>\u001b[0m df \u001b[39m=\u001b[39m fit_results\u001b[39m.\u001b[39mdf\n",
      "\u001b[0;31mAttributeError\u001b[0m: 'ConfirmatoryFactorAnalyzer' object has no attribute 'fit_'"
     ]
    }
   ],
   "source": [
    "fit_results = cfa.fit_\n",
    "chi_square = fit_results.statistic\n",
    "df = fit_results.df\n",
    "p_value = fit_results.pvalue"
   ]
  },
  {
   "cell_type": "code",
   "execution_count": 25,
   "metadata": {},
   "outputs": [
    {
     "name": "stdout",
     "output_type": "stream",
     "text": [
      "(256, 63)\n"
     ]
    }
   ],
   "source": [
    "print(df_numeric.shape) # It should give (number_of_rows, number_of_observed_variables)\n"
   ]
  },
  {
   "cell_type": "code",
   "execution_count": 26,
   "metadata": {},
   "outputs": [
    {
     "name": "stdout",
     "output_type": "stream",
     "text": [
      "13\n"
     ]
    }
   ],
   "source": [
    "total_observed_vars = sum([len(v) for v in filtered_model_dict.values()])\n",
    "print(total_observed_vars) # This should match number_of_observed_variables from the above step"
   ]
  },
  {
   "cell_type": "code",
   "execution_count": 10,
   "metadata": {},
   "outputs": [
    {
     "ename": "NameError",
     "evalue": "name 'df_cleaned' is not defined",
     "output_type": "error",
     "traceback": [
      "\u001b[0;31m---------------------------------------------------------------------------\u001b[0m",
      "\u001b[0;31mNameError\u001b[0m                                 Traceback (most recent call last)",
      "\u001b[1;32m/Users/john.anderson/hpm/notebooks/exploratory/first-eda.ipynb Cell 17\u001b[0m line \u001b[0;36m1\n\u001b[0;32m----> <a href='vscode-notebook-cell:/Users/john.anderson/hpm/notebooks/exploratory/first-eda.ipynb#X22sZmlsZQ%3D%3D?line=0'>1</a>\u001b[0m \u001b[39mprint\u001b[39m(df_cleaned\u001b[39m.\u001b[39mdtypes)\n",
      "\u001b[0;31mNameError\u001b[0m: name 'df_cleaned' is not defined"
     ]
    }
   ],
   "source": [
    "print(df_cleaned.dtypes)"
   ]
  },
  {
   "cell_type": "code",
   "execution_count": 11,
   "metadata": {},
   "outputs": [
    {
     "ename": "NameError",
     "evalue": "name 'df_numeric_filtered' is not defined",
     "output_type": "error",
     "traceback": [
      "\u001b[0;31m---------------------------------------------------------------------------\u001b[0m",
      "\u001b[0;31mNameError\u001b[0m                                 Traceback (most recent call last)",
      "\u001b[1;32m/Users/john.anderson/hpm/notebooks/exploratory/first-eda.ipynb Cell 18\u001b[0m line \u001b[0;36m1\n\u001b[0;32m----> <a href='vscode-notebook-cell:/Users/john.anderson/hpm/notebooks/exploratory/first-eda.ipynb#X23sZmlsZQ%3D%3D?line=0'>1</a>\u001b[0m \u001b[39mprint\u001b[39m(df_numeric_filtered)\n",
      "\u001b[0;31mNameError\u001b[0m: name 'df_numeric_filtered' is not defined"
     ]
    }
   ],
   "source": [
    "print(df_numeric_filtered)"
   ]
  },
  {
   "cell_type": "code",
   "execution_count": 12,
   "metadata": {},
   "outputs": [
    {
     "ename": "NameError",
     "evalue": "name 'df_numeric_filtered' is not defined",
     "output_type": "error",
     "traceback": [
      "\u001b[0;31m---------------------------------------------------------------------------\u001b[0m",
      "\u001b[0;31mNameError\u001b[0m                                 Traceback (most recent call last)",
      "\u001b[1;32m/Users/john.anderson/hpm/notebooks/exploratory/first-eda.ipynb Cell 19\u001b[0m line \u001b[0;36m1\n\u001b[0;32m----> <a href='vscode-notebook-cell:/Users/john.anderson/hpm/notebooks/exploratory/first-eda.ipynb#X24sZmlsZQ%3D%3D?line=0'>1</a>\u001b[0m df_numeric_filtered\u001b[39m.\u001b[39mshape\n",
      "\u001b[0;31mNameError\u001b[0m: name 'df_numeric_filtered' is not defined"
     ]
    }
   ],
   "source": [
    "df_numeric_filtered.shape"
   ]
  },
  {
   "cell_type": "code",
   "execution_count": 13,
   "metadata": {},
   "outputs": [
    {
     "ename": "NameError",
     "evalue": "name 'ModelSpecificationParser' is not defined",
     "output_type": "error",
     "traceback": [
      "\u001b[0;31m---------------------------------------------------------------------------\u001b[0m",
      "\u001b[0;31mNameError\u001b[0m                                 Traceback (most recent call last)",
      "\u001b[1;32m/Users/john.anderson/hpm/notebooks/exploratory/first-eda.ipynb Cell 20\u001b[0m line \u001b[0;36m1\n\u001b[0;32m----> <a href='vscode-notebook-cell:/Users/john.anderson/hpm/notebooks/exploratory/first-eda.ipynb#X25sZmlsZQ%3D%3D?line=0'>1</a>\u001b[0m help(ModelSpecificationParser\u001b[39m.\u001b[39mparse_model_specification_from_dict)\n",
      "\u001b[0;31mNameError\u001b[0m: name 'ModelSpecificationParser' is not defined"
     ]
    }
   ],
   "source": [
    "help(ModelSpecificationParser.parse_model_specification_from_dict)\n"
   ]
  },
  {
   "cell_type": "code",
   "execution_count": null,
   "metadata": {},
   "outputs": [],
   "source": []
  },
  {
   "cell_type": "code",
   "execution_count": null,
   "metadata": {},
   "outputs": [],
   "source": []
  }
 ],
 "metadata": {
  "kernelspec": {
   "display_name": "Python 3",
   "language": "python",
   "name": "python3"
  },
  "language_info": {
   "codemirror_mode": {
    "name": "ipython",
    "version": 3
   },
   "file_extension": ".py",
   "mimetype": "text/x-python",
   "name": "python",
   "nbconvert_exporter": "python",
   "pygments_lexer": "ipython3",
   "version": "3.11.5"
  }
 },
 "nbformat": 4,
 "nbformat_minor": 2
}
