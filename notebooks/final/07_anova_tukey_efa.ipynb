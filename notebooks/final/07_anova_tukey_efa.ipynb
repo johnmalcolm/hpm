{
 "cells": [
  {
   "cell_type": "code",
   "execution_count": 74,
   "metadata": {},
   "outputs": [],
   "source": [
    "import os\n",
    "import pandas as pd\n",
    "import numpy as np\n",
    "from scipy import stats\n",
    "from statsmodels.stats.multicomp import pairwise_tukeyhsd\n",
    "from scipy.stats import f_oneway\n",
    "\n",
    "current_dir = os.getcwd()\n",
    "project_root = os.path.dirname(os.path.dirname(current_dir))\n",
    "PROCESSED_DATA_PATH = os.path.join(project_root, 'data', 'processed')\n",
    "RAW_DATA_PATH = os.path.join(project_root, 'data', 'raw')\n",
    "OUTPUT_PATH = os.path.join(project_root, 'output')\n",
    "REPORTS_TABLES_PATH = os.path.join(project_root, \"reports\", \"tables\")"
   ]
  },
  {
   "cell_type": "code",
   "execution_count": 95,
   "metadata": {},
   "outputs": [],
   "source": [
    "df = pd.read_csv(PROCESSED_DATA_PATH + \"/dummy-efa.csv\")"
   ]
  },
  {
   "cell_type": "code",
   "execution_count": 96,
   "metadata": {},
   "outputs": [
    {
     "name": "stdout",
     "output_type": "stream",
     "text": [
      "                   Category  Frequency  Percentage  Mean of Performance\n",
      "0  High JIT & Environmental         67   38.285714             3.873134\n",
      "1      Mainly Environmental         50   28.571429             3.680370\n",
      "2                Mainly JIT         20   11.428571             3.616667\n",
      "3   Low JIT & Environmental         38   21.714286             3.296784\n"
     ]
    }
   ],
   "source": [
    "# Calculate the mean of performance (based on columns starting with \"EPERFX\")\n",
    "eperfx_columns = [col for col in df.columns if col.startswith(\"EPERFX\")]\n",
    "\n",
    "# Check for non-numeric values\n",
    "for col in eperfx_columns:\n",
    "    if not pd.api.types.is_numeric_dtype(df[col]):\n",
    "        print(f\"Column {col} contains non-numeric data.\")\n",
    "\n",
    "# Check for NaN values\n",
    "for col in eperfx_columns:\n",
    "    if df[col].isna().any():\n",
    "        print(f\"Column {col} contains NaN values.\")\n",
    "\n",
    "df['Mean of Performance'] = df[eperfx_columns].mean(axis=1)\n",
    "\n",
    "# Calculate the frequency of each category\n",
    "category_counts = df['Category'].value_counts().reset_index()\n",
    "category_counts.columns = ['Category', 'Frequency']\n",
    "\n",
    "# Calculate the percentage of each category\n",
    "total_rows = len(df)\n",
    "category_counts['Percentage'] = (category_counts['Frequency'] / total_rows) * 100\n",
    "\n",
    "# Aggregate data for each category\n",
    "result_df = pd.merge(category_counts, df.groupby('Category')['Mean of Performance'].mean().reset_index(), on='Category')\n",
    "\n",
    "# Rename columns for clarity\n",
    "result_df.columns = ['Category', 'Frequency', 'Percentage', 'Mean of Performance']\n",
    "\n",
    "# Sort by mean performance in descending order\n",
    "result_df = result_df.sort_values(by='Mean of Performance', ascending=False)\n",
    "\n",
    "# Reset the index\n",
    "result_df = result_df.reset_index(drop=True)\n",
    "\n",
    "# Print or work with 'result_df' as needed\n",
    "print(result_df)\n"
   ]
  },
  {
   "cell_type": "code",
   "execution_count": 97,
   "metadata": {},
   "outputs": [],
   "source": [
    "# save results_df to csv\n",
    "result_df.to_csv(PROCESSED_DATA_PATH + \"/mean_perf_efa_suppliers.csv\", index=False)"
   ]
  },
  {
   "cell_type": "code",
   "execution_count": 98,
   "metadata": {},
   "outputs": [],
   "source": [
    "import pandas as pd\n",
    "\n",
    "def dataframe_to_latex(df, file_name, label=\"tab:my_label\", caption=\"My Caption\"):\n",
    "    \"\"\"\n",
    "    Convert a pandas DataFrame to a LaTeX table with specific column modifications,\n",
    "    save it to a file, apply formatting to the numeric columns, and include label\n",
    "    and caption for the table in LaTeX.\n",
    "\n",
    "    Parameters:\n",
    "    - df: pandas DataFrame to convert.\n",
    "    - file_name: Name of the file to save the LaTeX code.\n",
    "    - label: Label for the table in LaTeX.\n",
    "    - caption: Caption for the table in LaTeX.\n",
    "    \"\"\"\n",
    "    \n",
    "    # Escape all LaTeX special characters in the DataFrame\n",
    "    df = df.replace('&', '\\\\&', regex=True)\n",
    "    \n",
    "    # Format numbers in Python before converting to LaTeX\n",
    "    df['Frequency'] = df['Frequency'].astype(int)\n",
    "    df['Percentage'] = df['Percentage'].apply(lambda x: f\"{x:.2f}\")\n",
    "    df['Mean of Performance'] = df['Mean of Performance'].apply(lambda x: f\"{x:.2f}\")\n",
    "\n",
    "    # Create the LaTeX table code without the longtable format\n",
    "    latex_code = df.to_latex(index=False, header=True, escape=False)\n",
    "\n",
    "    # Wrap the tabular environment with the table float environment\n",
    "    table_float = r'''\\begin{table}[htbp]\n",
    "    \\centering\n",
    "    \\caption{''' + caption + r'''}\n",
    "    \\label{''' + label + r'''}\n",
    "    ''' + latex_code + r'''\n",
    "    \\end{table}\n",
    "    '''\n",
    "\n",
    "    # Save to file\n",
    "    with open(file_name, 'w') as file:\n",
    "        file.write(table_float)\n"
   ]
  },
  {
   "cell_type": "code",
   "execution_count": 99,
   "metadata": {},
   "outputs": [],
   "source": [
    "# # read csv\n",
    "df = pd.read_csv(PROCESSED_DATA_PATH + \"/mean_perf_efa.csv\")\n",
    "\n",
    "# latex_file_name = REPORTS_TABLES_PATH + \"/performance_means_efa_suppliers.tex\"\n",
    "# dataframe_to_latex(df, latex_file_name, label=\"tab:your_label\", caption=\"Practice Adoption (Environmental Practices 2 - Suppliers)\")"
   ]
  },
  {
   "cell_type": "code",
   "execution_count": 100,
   "metadata": {},
   "outputs": [
    {
     "name": "stdout",
     "output_type": "stream",
     "text": [
      "No significant differences among categories based on ANOVA.\n"
     ]
    },
    {
     "name": "stderr",
     "output_type": "stream",
     "text": [
      "/Users/john.anderson/hpm/.venv/lib/python3.11/site-packages/scipy/stats/_stats_py.py:4141: DegenerateDataWarning: all input arrays have length 1.  f_oneway requires that at least one input has length greater than 1.\n",
      "  warnings.warn(stats.DegenerateDataWarning(msg))\n"
     ]
    }
   ],
   "source": [
    "# Step 1: Perform ANOVA to check for overall differences\n",
    "anova_result = f_oneway(df[df['Category'] == 'High JIT & Environmental']['Mean of Performance'],\n",
    "                        df[df['Category'] == 'Mainly Environmental']['Mean of Performance'],\n",
    "                        df[df['Category'] == 'Mainly JIT']['Mean of Performance'],\n",
    "                        df[df['Category'] == 'Low JIT & Environmental']['Mean of Performance'])\n",
    "\n",
    "# Step 2: Check if ANOVA indicates significant differences\n",
    "if anova_result.pvalue < 0.05:\n",
    "    # Step 3: Perform Tukey's HSD test for pairwise comparisons\n",
    "    tukey_results = pairwise_tukeyhsd(df['Mean of Performance'], df['Category'], alpha=0.05)\n",
    "\n",
    "    # Display Tukey results\n",
    "    print(tukey_results.summary())\n",
    "else:\n",
    "    print(\"No significant differences among categories based on ANOVA.\")\n"
   ]
  },
  {
   "cell_type": "code",
   "execution_count": 66,
   "metadata": {},
   "outputs": [],
   "source": [
    "import pandas as pd\n",
    "from scipy.stats import f_oneway\n",
    "from statsmodels.stats.multicomp import pairwise_tukeyhsd\n",
    "\n",
    "def tukey_to_latex(df, file_name, caption=\"Tukey Analysis\", label=\"tab:your_label\", alpha=0.05):\n",
    "    \"\"\"\n",
    "    Perform ANOVA and Tukey HSD test on the given DataFrame, then convert the Tukey HSD test \n",
    "    results to a LaTeX table with a caption and label, and save it to a file.\n",
    "\n",
    "    Parameters:\n",
    "    - df: pandas DataFrame containing the data.\n",
    "    - file_name: Name of the file to save the LaTeX code.\n",
    "    - caption: Caption for the LaTeX table.\n",
    "    - label: Label for the LaTeX table.\n",
    "    - alpha: Significance level for Tukey HSD test.\n",
    "    \"\"\"\n",
    "    # Perform ANOVA\n",
    "    anova_result = f_oneway(\n",
    "        df[df['Category'] == 'High JIT & Environmental']['Mean of Performance'],\n",
    "        df[df['Category'] == 'Mainly Environmental']['Mean of Performance'],\n",
    "        df[df['Category'] == 'Mainly JIT']['Mean of Performance'],\n",
    "        df[df['Category'] == 'Low JIT & Environmental']['Mean of Performance']\n",
    "    )\n",
    "    \n",
    "    # Initialize the LaTeX code for the table with caption and label\n",
    "    latex_code = f\"\\\\begin{{table}}[htbp]\\n\\\\centering\\n\\\\caption{{{caption}}}\\n\\\\label{{{label}}}\\n\\\\begin{{tabular}}{{llrrrrr}}\\n\\\\toprule\\n\"\n",
    "\n",
    "    # Check if ANOVA is significant\n",
    "    if anova_result.pvalue < alpha:\n",
    "        # Perform Tukey HSD\n",
    "        tukey_results = pairwise_tukeyhsd(df['Mean of Performance'], df['Category'], alpha=alpha)\n",
    "        # Convert Tukey HSD results to a DataFrame\n",
    "        tukey_df = pd.DataFrame(data=tukey_results._results_table.data[1:], columns=tukey_results._results_table.data[0])\n",
    "        \n",
    "        # Escape ampersands in group names and round all numeric columns to two decimal places\n",
    "        tukey_df['group1'] = tukey_df['group1'].str.replace('&', '\\\\&', regex=False)\n",
    "        tukey_df['group2'] = tukey_df['group2'].str.replace('&', '\\\\&', regex=False)\n",
    "        numeric_cols = tukey_df.select_dtypes(include=['float64', 'float32']).columns\n",
    "        tukey_df[numeric_cols] = tukey_df[numeric_cols].round(2)\n",
    "\n",
    "        # Assuming 'tukey_df' is your DataFrame and you want to drop columns named 'col_to_drop1', 'col_to_drop2', etc.\n",
    "        columns_to_drop = ['meandiff']\n",
    "        tukey_df = tukey_df.drop(columns_to_drop, axis=1)\n",
    "        \n",
    "        # Convert DataFrame to LaTeX code, remove the tabular environment from the generated LaTeX table and append the content\n",
    "        tukey_latex = tukey_df.to_latex(index=False, header=True, escape=False, formatters={\n",
    "            # 'meandiff': '{:0.2f}'.format,\n",
    "            'p-adj': '{:0.2f}'.format,\n",
    "            'lower': '{:0.2f}'.format,\n",
    "            'upper': '{:0.2f}'.format,\n",
    "        })\n",
    "        \n",
    "        # Remove the tabular environment from the generated LaTeX table and append the content\n",
    "        tukey_latex = tukey_latex.split(\"\\n\", 2)[-1].rsplit(\"\\n\", 1)[0]  # Remove the first and last lines containing tabular environment\n",
    "        latex_code += tukey_latex\n",
    "    else:\n",
    "        latex_code += \"No significant differences found by ANOVA.\\n\"\n",
    "\n",
    "    # Correctly finish the LaTeX table setup\n",
    "    latex_code += \"\\\\end{table}\"\n",
    "\n",
    "    # Save to file\n",
    "    with open(file_name, 'w') as file:\n",
    "        file.write(latex_code)\n",
    "\n",
    "# Example usage:\n",
    "# Ensure that df is defined in your workspace before calling this function\n",
    "# tukey_to_latex(df, 'tukey_results.tex')\n"
   ]
  },
  {
   "cell_type": "code",
   "execution_count": 45,
   "metadata": {},
   "outputs": [],
   "source": [
    "tukey_to_latex(df, REPORTS_TABLES_PATH + '/tukey_results_efa_supp.tex', caption=\"Multiple Comparison of Means - Tukey HSD, FWER=0.05 (Environmental Practices 1 - General)\", label=\"tab:your_label\", alpha=0.05)"
   ]
  },
  {
   "cell_type": "code",
   "execution_count": null,
   "metadata": {},
   "outputs": [],
   "source": []
  }
 ],
 "metadata": {
  "kernelspec": {
   "display_name": ".venv",
   "language": "python",
   "name": "python3"
  },
  "language_info": {
   "codemirror_mode": {
    "name": "ipython",
    "version": 3
   },
   "file_extension": ".py",
   "mimetype": "text/x-python",
   "name": "python",
   "nbconvert_exporter": "python",
   "pygments_lexer": "ipython3",
   "version": "3.11.5"
  }
 },
 "nbformat": 4,
 "nbformat_minor": 2
}
